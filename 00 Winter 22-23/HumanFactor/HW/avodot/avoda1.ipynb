{
 "cells": [
  {
   "cell_type": "code",
   "execution_count": 1,
   "metadata": {
    "collapsed": true
   },
   "outputs": [],
   "source": [
    "import pandas as pd\n",
    "import matplotlib.pyplot as plt"
   ]
  },
  {
   "cell_type": "markdown",
   "metadata": {},
   "source": [
    "## preprocesssing data"
   ]
  },
  {
   "cell_type": "code",
   "execution_count": 2,
   "metadata": {},
   "outputs": [],
   "source": [
    "df = pd.read_csv(\"results.csv\")\n",
    "dg = pd.read_csv(\"demographic.csv\")\n",
    "de = pd.read_csv(\"emotion_score.csv\")\n",
    "\n",
    "# filter data\n",
    "df = df.drop(index=[0,1])\n",
    "df[\"StartDate\"] = pd.to_datetime(df[\"StartDate\"])\n",
    "df = df[df[\"StartDate\"] >= pd.to_datetime(\"2022-11-28\")]\n",
    "df = pd.merge(left=df, right=dg, left_on=\"Prolific Id\", right_on=\"Participant id\", how=\"left\")\n",
    "df = df.sort_values(by=\"StartDate\")"
   ]
  },
  {
   "cell_type": "code",
   "execution_count": 3,
   "metadata": {},
   "outputs": [],
   "source": [
    "def reverse_negative_questions(df, list_columns_to_reverse):\n",
    "    for col in list_columns_to_reverse:\n",
    "        df[col] = df[col].astype('int')\n",
    "        df[col] = df[col].apply(lambda x: 8-x)\n",
    "    return df"
   ]
  },
  {
   "cell_type": "code",
   "execution_count": 4,
   "metadata": {},
   "outputs": [],
   "source": [
    "l_reverse_e = list(de[de['reversed'] == True]['emotion_q_num'])\n",
    "l_reverse_e = [f'Emotions_{i}' for i in l_reverse_e]\n",
    "l_reverse_p = [2, 5, 7, 8, 11, 12]\n",
    "l_reverse_p = [f'Physical Fitness_{i}' for i in l_reverse_p]"
   ]
  },
  {
   "cell_type": "code",
   "execution_count": 5,
   "metadata": {},
   "outputs": [],
   "source": [
    "list_columns_to_reverse = l_reverse_e + l_reverse_p\n",
    "df = reverse_negative_questions(df, list_columns_to_reverse)"
   ]
  },
  {
   "cell_type": "markdown",
   "metadata": {},
   "source": [
    "## Demographic analysis"
   ]
  },
  {
   "cell_type": "code",
   "execution_count": 6,
   "metadata": {},
   "outputs": [],
   "source": [
    "# sample size\n",
    "N = len(df)"
   ]
  },
  {
   "cell_type": "code",
   "execution_count": 7,
   "metadata": {},
   "outputs": [
    {
     "data": {
      "text/plain": [
       "0.6585365853658537"
      ]
     },
     "execution_count": 7,
     "metadata": {},
     "output_type": "execute_result"
    }
   ],
   "source": [
    "# num female\n",
    "N_female = len(df[df['Gender'].astype(int) == 2])\n",
    "N_female/N"
   ]
  },
  {
   "cell_type": "code",
   "execution_count": 8,
   "metadata": {},
   "outputs": [
    {
     "data": {
      "text/plain": [
       "(33.84146341463415, 11.068216660971204)"
      ]
     },
     "execution_count": 8,
     "metadata": {},
     "output_type": "execute_result"
    }
   ],
   "source": [
    "# age std & mean\n",
    "df['Age_x'].astype(int).mean(), df['Age_x'].astype(int).std()"
   ]
  },
  {
   "cell_type": "code",
   "execution_count": 9,
   "metadata": {},
   "outputs": [
    {
     "data": {
      "text/plain": [
       "0     1\n",
       "1     3\n",
       "2     2\n",
       "3     1\n",
       "6     1\n",
       "     ..\n",
       "65    2\n",
       "71    2\n",
       "69    4\n",
       "72    1\n",
       "81    1\n",
       "Name: Activity.1, Length: 82, dtype: object"
      ]
     },
     "execution_count": 9,
     "metadata": {},
     "output_type": "execute_result"
    }
   ],
   "source": [
    "df['Activity.1']"
   ]
  },
  {
   "cell_type": "code",
   "execution_count": 10,
   "metadata": {},
   "outputs": [
    {
     "data": {
      "image/png": "[encoded data removed]",
      "text/plain": [
       "<Figure size 432x288 with 1 Axes>"
      ]
     },
     "metadata": {},
     "output_type": "display_data"
    }
   ],
   "source": [
    "activity = df.groupby('Activity.1')['Ethnicity simplified'].agg(['count']).reset_index()\n",
    "plt.pie(activity['count'], \n",
    "        labels = ['any standard sport activity', 'some standard sport activity',\n",
    "                  'physical difficulty', 'other'])\n",
    "plt.show()"
   ]
  },
  {
   "cell_type": "code",
   "execution_count": 11,
   "metadata": {},
   "outputs": [
    {
     "data": {
      "text/plain": [
       "19    I am trying to gently rebuild my stamina & str...\n",
       "42                      Currently lazy and out of shape\n",
       "73    I have psoriatic arthritis which can sometimes...\n",
       "67    I just don't want to do a sport activity but I...\n",
       "54                                  my kneecap is loose\n",
       "68    Very unfit but starting to do some exercise at...\n",
       "69               i have long covid which causes fatigue\n",
       "Name: Activity_4_TEXT, dtype: object"
      ]
     },
     "execution_count": 11,
     "metadata": {},
     "output_type": "execute_result"
    }
   ],
   "source": [
    "(df[df['Activity.1'].astype('int') == 4]['Activity_4_TEXT'])"
   ]
  },
  {
   "cell_type": "code",
   "execution_count": 12,
   "metadata": {},
   "outputs": [
    {
     "data": {
      "text/plain": [
       "Int64Index([1, 5, 27, 39, 29, 49, 60, 77, 78], dtype='int64')"
      ]
     },
     "execution_count": 12,
     "metadata": {},
     "output_type": "execute_result"
    }
   ],
   "source": [
    "df[df['Activity.1'].astype('int') == 3].index"
   ]
  },
  {
   "cell_type": "code",
   "execution_count": 13,
   "metadata": {},
   "outputs": [],
   "source": [
    "# remove cols and indexes\n",
    "cols_to_remove = [\n",
    "    'Emotions_20', 'Physical Fitness_11',\n",
    "    'StartDate', 'EndDate', 'Status_x', 'IPAddress', 'Progress',\n",
    "    'Duration (in seconds)', 'Finished', 'RecordedDate', 'ResponseId',\n",
    "    'RecipientLastName', 'RecipientFirstName', 'RecipientEmail',\n",
    "    'ExternalReference', 'LocationLatitude', 'LocationLongitude',\n",
    "    'DistributionChannel', 'UserLanguage', 'Consent', 'Prolific Id',\n",
    "    'Activity', 'End of survey', 'Submission id', 'Participant id',\n",
    "    'Status_y', 'Started at', 'Completed at', 'Reviewed at', \n",
    "    'Archived at', 'Time taken', 'Completion code', 'Total approvals',\n",
    "    'Student status', \n",
    "]\n",
    "indexes_to_remove = [1, 5, 27, 39, 29, 49, 60, 77, 78, 69, 54]\n",
    "df = df.drop(cols_to_remove, 1)\n",
    "df = df.drop(indexes_to_remove)\n",
    "df = df.reset_index(drop=True)"
   ]
  },
  {
   "cell_type": "markdown",
   "metadata": {},
   "source": [
    "## score emotions and physical fitness"
   ]
  },
  {
   "cell_type": "code",
   "execution_count": 15,
   "metadata": {},
   "outputs": [],
   "source": [
    "df.columns\n",
    "cols_emotions = ['Emotions_1', 'Emotions_2', 'Emotions_3', 'Emotions_4', 'Emotions_5',\n",
    "       'Emotions_6', 'Emotions_7', 'Emotions_8', 'Emotions_9', 'Emotions_10',\n",
    "       'Emotions_11', 'Emotions_12', 'Emotions_13', 'Emotions_14',\n",
    "       'Emotions_15', 'Emotions_16', 'Emotions_17', 'Emotions_18',\n",
    "       'Emotions_19', 'Emotions_21', 'Emotions_22', 'Emotions_23',\n",
    "       'Emotions_24', 'Emotions_25', 'Emotions_26', 'Emotions_27',\n",
    "       'Emotions_28', 'Emotions_29', 'Emotions_30']\n",
    "cols_physical_fitness = ['Physical Fitness_1', 'Physical Fitness_2', 'Physical Fitness_3',\n",
    "       'Physical Fitness_4', 'Physical Fitness_5', 'Physical Fitness_6',\n",
    "       'Physical Fitness_7', 'Physical Fitness_8', 'Physical Fitness_9',\n",
    "       'Physical Fitness_10', 'Physical Fitness_12', 'Physical Fitness_13']"
   ]
  },
  {
   "cell_type": "code",
   "execution_count": 17,
   "metadata": {},
   "outputs": [
    {
     "data": {
      "text/plain": [
       "Index(['Physical Fitness_1', 'Physical Fitness_2', 'Physical Fitness_3',\n",
       "       'Physical Fitness_4', 'Physical Fitness_5', 'Physical Fitness_6',\n",
       "       'Physical Fitness_7', 'Physical Fitness_8', 'Physical Fitness_9',\n",
       "       'Physical Fitness_10', 'Physical Fitness_12', 'Physical Fitness_13',\n",
       "       'Emotions_1', 'Emotions_2', 'Emotions_3', 'Emotions_4', 'Emotions_5',\n",
       "       'Emotions_6', 'Emotions_7', 'Emotions_8', 'Emotions_9', 'Emotions_10',\n",
       "       'Emotions_11', 'Emotions_12', 'Emotions_13', 'Emotions_14',\n",
       "       'Emotions_15', 'Emotions_16', 'Emotions_17', 'Emotions_18',\n",
       "       'Emotions_19', 'Emotions_21', 'Emotions_22', 'Emotions_23',\n",
       "       'Emotions_24', 'Emotions_25', 'Emotions_26', 'Emotions_27',\n",
       "       'Emotions_28', 'Emotions_29', 'Emotions_30', 'doing_sport',\n",
       "       'Activity.1', 'Activity_4_TEXT', 'Gender', 'Age_x', 'Fluent languages',\n",
       "       'Age_y', 'Sex', 'Ethnicity simplified', 'Country of birth',\n",
       "       'Country of residence', 'Nationality', 'Language', 'Employment status'],\n",
       "      dtype='object')"
      ]
     },
     "execution_count": 17,
     "metadata": {},
     "output_type": "execute_result"
    }
   ],
   "source": [
    "df.columns"
   ]
  },
  {
   "cell_type": "code",
   "execution_count": 21,
   "metadata": {},
   "outputs": [],
   "source": [
    "df['emotion_score'] = df[cols_emotions].mean(axis=1)\n",
    "df['physical_fitness_score'] = df[cols_physical_fitness].mean(axis=1)"
   ]
  },
  {
   "cell_type": "code",
   "execution_count": 23,
   "metadata": {},
   "outputs": [
    {
     "data": {
      "text/plain": [
       "0.587322636402717"
      ]
     },
     "execution_count": 23,
     "metadata": {},
     "output_type": "execute_result"
    }
   ],
   "source": [
    "df['emotion_score'].corr(df['physical_fitness_score'])"
   ]
  }
 ],
 "metadata": {
  "kernelspec": {
   "display_name": "Python 3.9.2 64-bit",
   "language": "python",
   "name": "python3"
  },
  "language_info": {
   "codemirror_mode": {
    "name": "ipython",
    "version": 3
   },
   "file_extension": ".py",
   "mimetype": "text/x-python",
   "name": "python",
   "nbconvert_exporter": "python",
   "pygments_lexer": "ipython3",
   "version": "3.9.2"
  },
  "vscode": {
   "interpreter": {
    "hash": "11938c6bc6919ae2720b4d5011047913343b08a43b18698fd82dedb0d4417594"
   }
  }
 },
 "nbformat": 4,
 "nbformat_minor": 0
}
